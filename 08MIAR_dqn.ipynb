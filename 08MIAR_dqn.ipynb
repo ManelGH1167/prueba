{
  "cells": [
    {
      "cell_type": "markdown",
      "metadata": {
        "id": "LSVPAihG4U1j"
      },
      "source": [
        "# Actividad - Proyecto práctico\n",
        "\n",
        "> La actividad se desarrollará en grupos pre-definidos de 2-3 alumnos. Se debe indicar los nombres en orden alfabético (de apellidos). Recordad que esta actividad se corresponde con un 30% de la nota final de la asignatura. Se debe entregar entregar el trabajo en la presente notebook.\n",
        "* Alumno 1: Benali, Abdelilah\n",
        "* Alumno 2: Cuesta Cifuentes, Jair\n",
        "* Alumno 3: González Huete, Manel\n",
        "* Alumno 4: Manzanas Mogrovejo, Francisco\n",
        "* Alumno 5: Pascual, Guadalupe"
      ]
    },
    {
      "cell_type": "markdown",
      "metadata": {
        "id": "CWWcufoC7S2B"
      },
      "source": [
        "---\n",
        "## **PARTE 1** - Instalación y requisitos previos\n",
        "\n",
        "> Las prácticas han sido preparadas para poder realizarse en el entorno de trabajo de Google Colab. Sin embargo, esta plataforma presenta ciertas incompatibilidades a la hora de visualizar la renderización en gym. Por ello, para obtener estas visualizaciones, se deberá trasladar el entorno de trabajo a local. Por ello, el presente dosier presenta instrucciones para poder trabajar en ambos entornos. Siga los siguientes pasos para un correcto funcionamiento:\n",
        "1.   **LOCAL:** Preparar el enviroment, siguiendo las intrucciones detalladas en la sección *1.1.Preparar enviroment*.\n",
        "2.  **AMBOS:** Modificar las variables \"mount\" y \"drive_mount\" a la carpeta de trabajo en drive en el caso de estar en Colab, y ejecturar la celda *1.2.Localizar entorno de trabajo*.\n",
        "3. **COLAB:** se deberá ejecutar las celdas correspondientes al montaje de la carpeta de trabajo en Drive. Esta corresponde a la sección *1.3.Montar carpeta de datos local*.\n",
        "4.  **AMBOS:** Instalar las librerías necesarias, siguiendo la sección *1.4.Instalar librerías necesarias*.\n",
        "\n",
        "\n"
      ]
    },
    {
      "cell_type": "markdown",
      "metadata": {
        "id": "1svUw2WiJAUy"
      },
      "source": [
        "---\n",
        "### 1.1. Preparar enviroment (solo local)\n",
        "\n",
        "\n",
        "\n",
        "> Para preparar el entorno de trabajo en local, se han seguido los siguientes pasos:\n",
        "1. En Windows, puede ser necesario instalar las C++ Build Tools. Para ello, siga los siguientes pasos: https://towardsdatascience.com/how-to-install-openai-gym-in-a-windows-environment-338969e24d30.\n",
        "2. Instalar Anaconda\n",
        "3. Siguiendo el código que se presenta comentado en la próxima celda: Crear un enviroment, cambiar la ruta de trabajo, e instalar librerías básicas.\n",
        "\n",
        "\n",
        "```\n",
        "conda update --all\n",
        "conda create --name miar_rl python=3.8\n",
        "conda activate miar_rl\n",
        "cd \"PATH_TO_FOLDER\"\n",
        "conda install git\n",
        "pip install jupyter\n",
        "```\n",
        "\n",
        "\n",
        "4. Abrir la notebook con *jupyter-notebook*.\n",
        "\n",
        "\n",
        "\n",
        "```\n",
        "jupyter-notebook\n",
        "```\n",
        "\n",
        "\n"
      ]
    },
    {
      "cell_type": "markdown",
      "metadata": {
        "id": "_ouO30DIAKL3"
      },
      "source": [
        "---\n",
        "### 1.2. Localizar entorno de trabajo: Google colab o local"
      ]
    },
    {
      "cell_type": "code",
      "execution_count": 1,
      "metadata": {
        "id": "cw5W3OopAFKN"
      },
      "outputs": [],
      "source": [
        "# ATENCIÓN!! Modificar ruta relativa a la práctica si es distinta (drive_root)\n",
        "mount='/content/gdrive'\n",
        "drive_root = mount + \"/My Drive/VIU/08_AR_MIAR/sesiones_practicas/sesion_practica_1\"\n",
        "\n",
        "try:\n",
        "  from google.colab import drive\n",
        "  IN_COLAB=True\n",
        "except:\n",
        "  IN_COLAB=False\n",
        "\n",
        "IN_COLAB=False"
      ]
    },
    {
      "cell_type": "markdown",
      "metadata": {
        "id": "sK5sY_ybAFt8"
      },
      "source": [
        "---\n",
        "### 1.3. Montar carpeta de datos local (solo Colab)"
      ]
    },
    {
      "cell_type": "code",
      "execution_count": 2,
      "metadata": {
        "colab": {
          "base_uri": "https://localhost:8080/"
        },
        "id": "3lN7KLe05NSa",
        "outputId": "d1c8fb12-a6ef-48fe-e2c1-8217516e930f"
      },
      "outputs": [
        {
          "output_type": "stream",
          "name": "stdout",
          "text": [
            "Archivos en el directorio: \n",
            "['.config', 'checkpoint', 'dqn_SpaceInvaders-v0_weights.h5f.data-00000-of-00001', 'dqn_BreakoutDeterministic-v4_log.json', 'checkpoints', 'dqn_BreakoutDeterministic-v4_weights.h5f.index', 'dqn_SpaceInvaders-v0_log.json', 'DQN_log.json', 'dqn_SpaceInvaders-v0_weights.h5f.index', 'dqn_BreakoutDeterministic-v4_weights.h5f.data-00000-of-00001', 'sample_data']\n"
          ]
        }
      ],
      "source": [
        "# Switch to the directory on the Google Drive that you want to use\n",
        "import os\n",
        "if IN_COLAB:\n",
        "  print(\"We're running Colab\")\n",
        "\n",
        "  if IN_COLAB:\n",
        "    # Mount the Google Drive at mount\n",
        "    print(\"Colab: mounting Google drive on \", mount)\n",
        "\n",
        "    drive.mount(mount)\n",
        "\n",
        "    # Create drive_root if it doesn't exist\n",
        "    create_drive_root = True\n",
        "    if create_drive_root:\n",
        "      print(\"\\nColab: making sure \", drive_root, \" exists.\")\n",
        "      os.makedirs(drive_root, exist_ok=True)\n",
        "\n",
        "    # Change to the directory\n",
        "    print(\"\\nColab: Changing directory to \", drive_root)\n",
        "    %cd $drive_root\n",
        "# Verify we're in the correct working directory\n",
        "%pwd\n",
        "print(\"Archivos en el directorio: \")\n",
        "print(os.listdir())"
      ]
    },
    {
      "cell_type": "markdown",
      "metadata": {
        "id": "m2zVSAPW43MH"
      },
      "source": [
        "---\n",
        "### 1.4. Instalar librerías necesarias\n"
      ]
    },
    {
      "cell_type": "code",
      "execution_count": 3,
      "metadata": {
        "id": "AmVd8L9XBt26"
      },
      "outputs": [],
      "source": [
        "IN_LOCAL = True\n",
        "\n",
        "if IN_COLAB:\n",
        "  %pip install gym==0.17.3\n",
        "  %pip install git+https://github.com/Kojoley/atari-py.git\n",
        "  %pip install keras-rl2==1.0.5\n",
        "  %pip install tensorflow==2.8\n",
        "if not IN_LOCAL:\n",
        "  %pip install numpy==1.23.5\n",
        "  %pip install gym==0.17\n",
        "  %pip install git+https://github.com/Kojoley/atari-py.git\n",
        "  %pip install pyglet==1.5.0\n",
        "  %pip install h5py==3.1.0\n",
        "  %pip install Pillow==9.5.0\n",
        "  %pip install keras-rl2==1.0.5\n",
        "  %pip install Keras==2.2.4\n",
        "  %pip install tensorflow==2.5.3\n",
        "  %pip install torch==2.0.1\n",
        "  %pip install agents==1.4.0\n",
        "  %pip install matplotlib==3.4.3\n",
        "  %pip install tqdm"
      ]
    },
    {
      "cell_type": "markdown",
      "metadata": {
        "id": "ihTI9TOD43ML"
      },
      "source": [
        "---\n",
        "## **PARTE 2**. Enunciado\n",
        "\n",
        "Consideraciones a tener en cuenta:\n",
        "\n",
        "- El entorno sobre el que trabajaremos será _SpaceInvaders-v0_ y el algoritmo que usaremos será _DQN_.\n",
        "\n",
        "- Para nuestro ejercicio, el requisito mínimo será alcanzado cuando el agente consiga una **media de recompensa por encima de 20 puntos en modo test**. Por ello, esta media de la recompensa se calculará a partir del código de test en la última celda del notebook.\n",
        "\n",
        "Este proyecto práctico consta de tres partes:\n",
        "\n",
        "1.   Implementar la red neuronal que se usará en la solución\n",
        "2.   Implementar las distintas piezas de la solución DQN\n",
        "3.   Justificar la respuesta en relación a los resultados obtenidos\n",
        "\n",
        "**Rúbrica**: Se valorará la originalidad en la solución aportada, así como la capacidad de discutir los resultados de forma detallada. El requisito mínimo servirá para aprobar la actividad, bajo premisa de que la discusión del resultado sera apropiada.\n",
        "\n",
        "IMPORTANTE:\n",
        "\n",
        "* Si no se consigue una puntuación óptima, responder sobre la mejor puntuación obtenida.\n",
        "* Para entrenamientos largos, recordad que podéis usar checkpoints de vuestros modelos para retomar los entrenamientos. En este caso, recordad cambiar los parámetros adecuadamente (sobre todo los relacionados con el proceso de exploración).\n",
        "* Se deberá entregar unicamente el notebook y los pesos del mejor modelo en un fichero .zip, de forma organizada.\n",
        "* Cada alumno deberá de subir la solución de forma individual."
      ]
    },
    {
      "cell_type": "markdown",
      "metadata": {
        "id": "uIAR9zQv43MO"
      },
      "source": [
        "---\n",
        "## **PARTE 3**. Desarrollo y preguntas\n",
        "\n",
        "#### Importar librerías"
      ]
    },
    {
      "cell_type": "code",
      "execution_count": 4,
      "metadata": {
        "id": "K4o4-N4T43MO"
      },
      "outputs": [],
      "source": [
        "from __future__ import division\n",
        "\n",
        "import numpy as np\n",
        "import matplotlib.pyplot as plt\n",
        "import tensorflow as tf\n",
        "import gc       # Para garbage collection\n",
        "import random\n",
        "import os\n",
        "import pickle\n",
        "import re       # Para expresiones regulares en carga de checkpoints\n",
        "import gym      # Para el entorno de Atari\n",
        "import cv2      # Para preprocesamiento de imágenes si se usa AtariProcessor\n",
        "import warnings\n",
        "import time\n",
        "import psutil\n",
        "import tracemalloc\n",
        "from rl.memory import SequentialMemory\n",
        "from rl.agents.dqn import DQNAgent, AbstractDQNAgent\n",
        "\n",
        "from PIL import Image\n",
        "from tensorflow.keras.models import Sequential\n",
        "from tensorflow.keras.layers import Input, Conv2D, Dense, Activation, Flatten, Convolution2D, Permute\n",
        "from tensorflow.keras.layers import Lambda, Add\n",
        "from tensorflow.keras.models import Model\n",
        "from tensorflow.keras.optimizers import Adam\n",
        "from rl.policy import LinearAnnealedPolicy, BoltzmannQPolicy, EpsGreedyQPolicy\n",
        "from rl.core import Processor\n",
        "from rl.callbacks import FileLogger, ModelIntervalCheckpoint\n",
        "from collections import deque\n",
        "from tqdm import trange     # Necesaria para la barra de progreso en simple_train\n",
        "import tensorflow.keras.backend as K"
      ]
    },
    {
      "cell_type": "code",
      "source": [
        "# Necesario para la grabación de video\n",
        "try:\n",
        "    import gym.wrappers\n",
        "except ImportError:\n",
        "    print(\"WARNING: gym.wrappers no está disponible. La grabación de video no funcionará.\")\n",
        "    gym.wrappers = None # Asegurar que no dé error si no se encuentra\n"
      ],
      "metadata": {
        "id": "puzS2kTzc1Fd"
      },
      "execution_count": 5,
      "outputs": []
    },
    {
      "cell_type": "code",
      "source": [
        "# Configurar TensorFlow para CPU (x cores)\n",
        "def optimizar_tensorflow():\n",
        "    \"\"\"Configura TensorFlow para rendimiento óptimo en CPU/GPU\"\"\"\n",
        "    # Limpiar sesión previa\n",
        "    gc.collect()\n",
        "\n",
        "    # Optimización de GPU si está disponible\n",
        "    gpus = tf.config.experimental.list_physical_devices('GPU')\n",
        "    if gpus:\n",
        "        try:\n",
        "            for gpu in gpus:\n",
        "                tf.config.experimental.set_memory_growth(gpu, True)\n",
        "            print(f\"GPU optimizada para crecimiento adaptativo de memoria\")\n",
        "        except Exception as e:\n",
        "            print(f\"Error al configurar GPU: {e}\")\n",
        "\n",
        "    # Optimización de CPU\n",
        "    num_cpu_cores = os.cpu_count() or 8  # Fallback a 8 si no se puede detectar\n",
        "\n",
        "    os.environ[\"OMP_NUM_THREADS\"] = str(num_cpu_cores // 2)\n",
        "    os.environ[\"OPENBLAS_NUM_THREADS\"] = str(num_cpu_cores // 2)\n",
        "    os.environ[\"MKL_NUM_THREADS\"] = str(num_cpu_cores // 2)\n",
        "\n",
        "    tf.config.threading.set_intra_op_parallelism_threads(num_cpu_cores // 2)\n",
        "    tf.config.threading.set_inter_op_parallelism_threads(max(2, num_cpu_cores // 4))\n",
        "\n",
        "    # Modo eager solo si es necesario\n",
        "    # Para entrenamiento, es mejor desactivarlo por rendimiento\n",
        "    tf.config.run_functions_eagerly(False)\n",
        "\n",
        "    print(f\"TensorFlow optimizado para {num_cpu_cores} cores CPU\")\n",
        "    return True"
      ],
      "metadata": {
        "id": "G8iRCStcc90p"
      },
      "execution_count": 6,
      "outputs": []
    },
    {
      "cell_type": "markdown",
      "source": [
        "#### Crear el entorno\n",
        "Nuestro entorno es el juego Space Invaders, de Atari"
      ],
      "metadata": {
        "id": "faNbnMuOdNDP"
      }
    },
    {
      "cell_type": "code",
      "source": [
        "# Crear el entorno\n",
        "env_name = 'SpaceInvaders-v0'\n",
        "env = gym.make(env_name)\n",
        "np.random.seed(123)\n",
        "env.seed(123)\n",
        "nb_actions = env.action_space.n"
      ],
      "metadata": {
        "id": "7WFE0sqPdLsy"
      },
      "execution_count": 7,
      "outputs": []
    },
    {
      "cell_type": "code",
      "source": [
        "print(\"El tamaño de nuestro 'frame' es: \", env.observation_space)\n",
        "print(\"El número de acciones posibles es : \", nb_actions)\n",
        "print(\"Las acciones posibles son : \",env.env.get_action_meanings())\n",
        "\n",
        "# Here we create an hot encoded version of our actions\n",
        "# possible_actions = [[1, 0, 0, 0, 0, 0], [0, 1, 0, 0, 0, 0, 0]...]\n",
        "possible_actions = np.array(np.identity(env.action_space.n,dtype=int).tolist())\n",
        "print(\"\\nOHE de las acciones posibles: \\n\", possible_actions)"
      ],
      "metadata": {
        "colab": {
          "base_uri": "https://localhost:8080/"
        },
        "id": "VcjoyH3idqh4",
        "outputId": "73f8d166-514b-4341-9256-0a06734a739b"
      },
      "execution_count": 8,
      "outputs": [
        {
          "output_type": "stream",
          "name": "stdout",
          "text": [
            "El tamaño de nuestro 'frame' es:  Box(0, 255, (210, 160, 3), uint8)\n",
            "El número de acciones posibles es :  6\n",
            "Las acciones posibles son :  ['NOOP', 'FIRE', 'RIGHT', 'LEFT', 'RIGHTFIRE', 'LEFTFIRE']\n",
            "\n",
            "OHE de las acciones posibles: \n",
            " [[1 0 0 0 0 0]\n",
            " [0 1 0 0 0 0]\n",
            " [0 0 1 0 0 0]\n",
            " [0 0 0 1 0 0]\n",
            " [0 0 0 0 1 0]\n",
            " [0 0 0 0 0 1]]\n"
          ]
        }
      ]
    },
    {
      "cell_type": "markdown",
      "source": [
        "#### Definición Hiperparámetros"
      ],
      "metadata": {
        "id": "tgw7iHVRduGa"
      }
    },
    {
      "cell_type": "code",
      "source": [
        "### HIPERPARÁMETROS DEL MODELO\n",
        "# Hiperparámetros optimizados\n",
        "HEIGHT = 84\n",
        "WIDTH = 84\n",
        "USE_FRAMESTACK = True       # Cambiar a True si quieres detección de movimiento\n",
        "WINDOW_LENGTH = 4 if USE_FRAMESTACK else 1   # Número de fotogramas apilados          # La mayoría de implementaciones usan 4 frames\n",
        "batch_size = 32             # Tamaño de batch óptimo\n",
        "gamma = 0.99                # Factor de descuento (mejor que 0.95 para recompensas a largo plazo)\n",
        "learning_rate = 0.00025     # Tasa de aprendizaje estándar para DQN\n",
        "memory_size = 1000000       # Buffer de memoria grande para mejor estabilidad\n",
        "TARGET_UPDATE_INTERVAL = 10000  # Actualización de red objetivo cada 10,000 pasos\n",
        "WARMUP_STEPS = 50000        # Pasos iniciales para llenar la memoria (experiencia aleatoria)\n",
        "TRAINING_STEPS = 5000000    # Total de pasos de entrenamiento (5M para buenos resultados)\n",
        "INPUT_SHAPE = (HEIGHT, WIDTH)                 # Dimensiones de cada frame\n",
        "\n",
        "### HIPERPARÁMETROS DE PREPROCESAMIENTO\n",
        "\n",
        "#CHANNELS_FIRST_SHAPE = (WINDOW_LENGTH, *INPUT_SHAPE)  # Para SequentialMemory (batch, channels, height, width)\n",
        "MODEL_INPUT_SHAPE = (HEIGHT, WIDTH, WINDOW_LENGTH)  # Forma para el modelo (channels_last)\n",
        "\n",
        "# Definir shape consistente\n",
        "if USE_FRAMESTACK:\n",
        "    state_shape = (84, 84, WINDOW_LENGTH)  # (84, 84, x)\n",
        "else:\n",
        "    state_shape = (84, 84, 1)  # (84, 84, 1) - escala de grises simple\n",
        "\n",
        "state_size = (*INPUT_SHAPE, WINDOW_LENGTH)   # Nuestra entrada es una pila de 4 fotogramas, por lo tanto 110x84x4 (ancho, alto, canales)\n",
        "input_shape = (*INPUT_SHAPE, WINDOW_LENGTH)  # Para la API de keras-rl\n",
        "action_size = env.action_space.n       # 6 acciones posibles\n",
        "learning_rate =  0.00025               # Alfa (también conocido como tasa de aprendizaje)\n",
        "\n",
        "### HIPERPARÁMETROS DE ENTRENAMIENTO\n",
        "# total_episodios = 10    #TEST        # Episodios totales para el entrenamiento\n",
        "# max_steps = 10000       #TEST        # Máximo de pasos posibles por episodio\n",
        "total_episodios = 100          # Episodios totales para el entrenamiento\n",
        "max_steps = 3000               # Máximo de pasos posibles por episodio\n",
        "\n",
        "# Parámetros de exploración para la estrategia epsilon-greedy\n",
        "epsilon_start = 1.0            # Probabilidad de exploración al inicio\n",
        "epsilon_stop = 0.01            # Probabilidad mínima de exploración\n",
        "decay_rate = 0.00001           # Tasa de decaimiento exponencial para la probabilidad de exploración\n",
        "epsilon_decay = 0.995\n",
        "\n",
        "# Hiperparámetros del aprendizaje Q\n",
        "tau = 0.001\n",
        "checkpoint_path=\"checkpoints\"\n",
        "\n",
        "### HIPERPARÁMETROS DE MEMORIA\n",
        "pretrain_length = batch_size   # Número de experiencias almacenadas en la memoria al inicializar por primera vez\n",
        "\n",
        "### CAMBIA ESTO A FALSE SI SOLO QUIERES VER AL AGENTE ENTRENADO\n",
        "training = False\n",
        "\n",
        "## CAMBIA ESTO A TRUE SI QUIERES RENDERIZAR EL ENTORNO\n",
        "episode_render = False"
      ],
      "metadata": {
        "id": "TshMrqTjdxja"
      },
      "execution_count": 9,
      "outputs": []
    },
    {
      "cell_type": "markdown",
      "source": [
        "#### Clase \"processor\" para Atari\n",
        "\n",
        "Ahora definimos un \"processor\" para las pantallas de entrada del juego, en el que recortamos el tamaño de la imagen (matriz de 210 x 160 píxeles) y la convertimos En una matriz bidimensional de 80 x 80 píxeles). También convertimos las imágenes de RGB a escala de grises normal, ya que no necesitamos usar los colores. Con este trabajo buscamos acelerar nuestro algoritmo, eliminando la información innecesaria y reduciendo la carga de la GPU."
      ],
      "metadata": {
        "id": "cjFRyr4Ld1Hp"
      }
    },
    {
      "cell_type": "code",
      "execution_count": 10,
      "metadata": {
        "id": "06wZVH5c43MP"
      },
      "outputs": [],
      "source": [
        "class AtariProcessor(Processor):\n",
        "    \"\"\"\n",
        "    Procesador para preprocesar observaciones del entorno Atari (e.g., SpaceInvaders-v0).\n",
        "\n",
        "    Hereda de rl.core.Processor y proporciona métodos para convertir observaciones RGB en\n",
        "    imágenes en escala de grises, redimensionarlas y normalizarlas, así como para limitar\n",
        "    las recompensas.\n",
        "\n",
        "    MÉTODOS:\n",
        "    --------\n",
        "        process_observation(observation): Convierte una observación RGB a escala de grises\n",
        "                                         y la redimensiona.\n",
        "        process_state_batch(batch): Normaliza un lote de estados dividiendo por 255.\n",
        "        process_reward(reward): Limita las recompensas a un rango [-1, 1].\n",
        "    \"\"\"\n",
        "    def __init__(self, input_shape=(INPUT_SHAPE)):\n",
        "        self.input_shape = input_shape\n",
        "        # Precargar una imagen negra para inicialización\n",
        "        self.black_frame = np.zeros(input_shape, dtype=np.uint8)\n",
        "\n",
        "    def process_observation(self, observation):\n",
        "        \"\"\"\n",
        "        Preprocesa una observación convirtiéndola a escala de grises y redimensionándola.\n",
        "\n",
        "        Parámetros:\n",
        "        -----------\n",
        "            observation (np.ndarray): Observación cruda del entorno con forma (height, width, channels).\n",
        "\n",
        "        Retorna:\n",
        "        --------\n",
        "            np.ndarray: Imagen en escala de grises redimensionada a INPUT_SHAPE (84, 84) en formato uint8.\n",
        "\n",
        "        Raises:\n",
        "            AssertionError: Si la observación no tiene 3 dimensiones o la forma procesada no coincide con INPUT_SHAPE.\n",
        "        \"\"\"\n",
        "        # Si la observación es None, devolver un marco negro\n",
        "        if observation is None:\n",
        "            return self.black_frame\n",
        "\n",
        "        assert observation.ndim == 3  # (height, width, channel)\n",
        "        # Crop the screen (remove the part below the player)\n",
        "        # [Up: Down, Left: right]\n",
        "        cropped_img = observation[18:-12, 4:-12]\n",
        "        # Optimización: usar cv2 para redimensionar y convertir a escala de grises (más rápido que PIL)\n",
        "        resized = cv2.resize(cropped_img, self.input_shape)\n",
        "        # Convertir a escala de grises si es necesario\n",
        "        if len(resized.shape) == 3:\n",
        "            gray = cv2.cvtColor(resized, cv2.COLOR_RGB2GRAY)\n",
        "        else:\n",
        "            gray = resized\n",
        "        assert gray.shape == self.input_shape\n",
        "        return gray.astype(np.uint8)\n",
        "\n",
        "    def process_state_batch(self, batch):\n",
        "        \"\"\"\n",
        "        Normaliza un lote de estados dividiendo los valores por 255.\n",
        "\n",
        "        Parámetros:\n",
        "        -----------\n",
        "            batch (np.ndarray): Lote de estados con valores en [0, 255].\n",
        "\n",
        "        Retorna:\n",
        "        --------\n",
        "            np.ndarray: Lote normalizado con valores en [0, 1] en formato float32.\n",
        "        \"\"\"\n",
        "        # Conversión directa a float32 y normalización\n",
        "        return batch.astype(np.float32) / 255.0\n",
        "\n",
        "    def process_reward(self, reward):\n",
        "        \"\"\"\n",
        "        Normaliza un lote de estados dividiendo los valores por 255.\n",
        "\n",
        "        Parámetros:\n",
        "        -----------\n",
        "            batch (np.ndarray): Lote de estados con valores en [0, 255].\n",
        "\n",
        "        Retorna:\n",
        "        --------\n",
        "            np.ndarray: Lote normalizado con valores en [0, 1] en formato float32.\n",
        "        \"\"\"\n",
        "        return np.clip(reward, -1., 1.)\n",
        "\n",
        "    def process_step(self, observation, reward, done, info):\n",
        "        \"\"\"\n",
        "        Procesa un paso completo del entorno.\n",
        "        \"\"\"\n",
        "        processed_observation = self.process_observation(observation)\n",
        "        processed_reward = self.process_reward(reward)\n",
        "        return processed_observation, processed_reward, done, info"
      ]
    },
    {
      "cell_type": "markdown",
      "source": [
        "#### Revisar el entorno de juego"
      ],
      "metadata": {
        "id": "ptwluQRXedZP"
      }
    },
    {
      "cell_type": "code",
      "execution_count": 11,
      "metadata": {
        "colab": {
          "base_uri": "https://localhost:8080/"
        },
        "id": "9VwBXOBk43MP",
        "outputId": "1153a36e-53fe-4866-c851-020a848cffff"
      },
      "outputs": [
        {
          "output_type": "stream",
          "name": "stdout",
          "text": [
            "Numero de acciones disponibles: 6\n"
          ]
        }
      ],
      "source": [
        "print(\"Numero de acciones disponibles: \" + str(nb_actions))"
      ]
    },
    {
      "cell_type": "code",
      "execution_count": 12,
      "metadata": {
        "colab": {
          "base_uri": "https://localhost:8080/"
        },
        "id": "NT6osc3H43MP",
        "outputId": "709e1137-3e54-4102-9e32-074c581c9b9e"
      },
      "outputs": [
        {
          "output_type": "stream",
          "name": "stdout",
          "text": [
            "Formato de las observaciones:\n"
          ]
        },
        {
          "output_type": "execute_result",
          "data": {
            "text/plain": [
              "Box(0, 255, (210, 160, 3), uint8)"
            ]
          },
          "metadata": {},
          "execution_count": 12
        }
      ],
      "source": [
        "print(\"Formato de las observaciones:\")\n",
        "env.observation_space"
      ]
    },
    {
      "cell_type": "code",
      "source": [
        "observation = env.reset()\n",
        "for i in range(22):\n",
        "  if i > 20:\n",
        "    plt.imshow(observation)\n",
        "    plt.show()\n",
        "\n",
        "  observation, reward, done, info = env.step(1)"
      ],
      "metadata": {
        "colab": {
          "base_uri": "https://localhost:8080/",
          "height": 434
        },
        "id": "7-BoOu_eeiAE",
        "outputId": "463c6d08-7327-4a16-9f29-880031328936"
      },
      "execution_count": 13,
      "outputs": [
        {
          "output_type": "display_data",
          "data": {
            "text/plain": [
              "<Figure size 640x480 with 1 Axes>"
            ],
            "image/png": "[encoded data removed]"
          },
          "metadata": {}
        }
      ]
    },
    {
      "cell_type": "code",
      "source": [
        "# Mostrar las entradas preprocesadas en escala de grises y comparar originales y preprocesados.\n",
        "processor = AtariProcessor()\n",
        "obs_preprocessed = processor.process_observation(observation).reshape(INPUT_SHAPE)\n",
        "# Seleccionamos el primer frame y lo normalizamos\n",
        "frame = processor.process_state_batch(obs_preprocessed)\n",
        "# Visualizar en escala de grises\n",
        "plt.imshow(frame, cmap='gray')\n",
        "plt.show()\n",
        "print(observation.shape)\n",
        "print(obs_preprocessed.shape)"
      ],
      "metadata": {
        "colab": {
          "base_uri": "https://localhost:8080/",
          "height": 470
        },
        "id": "vHJaGcAVelRY",
        "outputId": "3c0d6164-7f96-4636-9cf8-2c299854ce87"
      },
      "execution_count": 14,
      "outputs": [
        {
          "output_type": "display_data",
          "data": {
            "text/plain": [
              "<Figure size 640x480 with 1 Axes>"
            ],
            "image/png": "[encoded data removed]"
          },
          "metadata": {}
        },
        {
          "output_type": "stream",
          "name": "stdout",
          "text": [
            "(210, 160, 3)\n",
            "(84, 84)\n"
          ]
        }
      ]
    },
    {
      "cell_type": "markdown",
      "source": [
        "#### Clase FrameStack para apilar frames"
      ],
      "metadata": {
        "id": "xVe0dhbsfvc6"
      }
    },
    {
      "cell_type": "code",
      "source": [
        "class FrameStack:\n",
        "    \"\"\"\n",
        "    Clase para gestionar una pila de fotogramas consecutivos del entorno, utilizada para capturar\n",
        "    el contexto temporal en juegos de Atari (e.g., SpaceInvaders-v0).\n",
        "\n",
        "    Mantiene una cola (deque) de fotogramas preprocesados con un tamaño máximo definido por\n",
        "    max_length, apilándolos para formar un estado con información de movimiento.\n",
        "\n",
        "    Atributos:\n",
        "    ----------\n",
        "        frames (deque): Cola de fotogramas preprocesados con longitud máxima max_length.\n",
        "        max_length (int): Número máximo de fotogramas a apilar (e.g., WINDOW_LENGTH).\n",
        "\n",
        "    MÉTODOS:\n",
        "    --------\n",
        "        append(frame): Añade un nuevo fotograma a la pila, eliminando el más antiguo si es necesario.\n",
        "        get_stacked_state(): Devuelve el estado apilado como un array NumPy.\n",
        "    \"\"\"\n",
        "    def __init__(self, num_frames=4):\n",
        "        \"\"\"\n",
        "        Inicializa la pila de fotogramas.\n",
        "\n",
        "        Parámetros:\n",
        "        -----------\n",
        "            max_length (int): Número máximo de fotogramas a mantener en la pila.\n",
        "        \"\"\"\n",
        "        self.num_frames = num_frames\n",
        "        self.frames = deque([np.zeros((INPUT_SHAPE), dtype=np.int) for i in range(self.num_frames)], maxlen=self.num_frames)\n",
        "\n",
        "    def reset(self):\n",
        "        self.frames.clear()\n",
        "\n",
        "    def add_frame(self, frame, is_new_episode):\n",
        "        \"\"\"\n",
        "        Añade un fotograma preprocesado a la pila.\n",
        "\n",
        "        Parámetros:\n",
        "        -----------\n",
        "            frame (np.ndarray): Fotograma preprocesado (e.g., imagen en escala de grises de 84x84).\n",
        "        \"\"\"\n",
        "        # Si es el primer frame, llenamos el deque\n",
        "        if is_new_episode:\n",
        "            self.frames = deque([np.zeros((INPUT_SHAPE), dtype=np.int) for i in range(self.num_frames)], maxlen=self.num_frames)\n",
        "            for _ in range(self.num_frames):\n",
        "                self.frames.append(frame)\n",
        "        else:\n",
        "            self.frames.append(frame)\n",
        "\n",
        "    def get_state(self):\n",
        "        \"\"\"\n",
        "        Devuelve el estado apilado como un array NumPy con los fotogramas actuales.\n",
        "\n",
        "        Si la pila no está llena, repite el último fotograma hasta completar max_length.\n",
        "\n",
        "        Retorna:\n",
        "        --------\n",
        "            np.ndarray: Array de forma (84, 84, max_length) con los fotogramas apilados.\n",
        "        \"\"\"\n",
        "        # Convertir a array con shape (84, 84, 4)\n",
        "        return np.stack(self.frames, axis=-1)"
      ],
      "metadata": {
        "id": "gSJsJa41fzo7"
      },
      "execution_count": 15,
      "outputs": []
    },
    {
      "cell_type": "markdown",
      "source": [
        "#### Clase ReplayMemory"
      ],
      "metadata": {
        "id": "j-yCJoGjf2Fg"
      }
    },
    {
      "cell_type": "code",
      "source": [
        "class ReplayMemory:\n",
        "    \"\"\"ReplayMemory optimizada para evitar fugas de memoria\"\"\"\n",
        "\n",
        "    def __init__(self, capacity, state_shape):\n",
        "        self.capacity = capacity\n",
        "        self.position = 0\n",
        "        self.size = 0\n",
        "\n",
        "        # Pre-asignar arrays con el tamaño exacto\n",
        "        # Usar uint8 para estados (más eficiente que float32)\n",
        "        self.states = np.zeros((capacity, *state_shape), dtype=np.uint8)\n",
        "        self.actions = np.zeros(capacity, dtype=np.int32)\n",
        "        self.rewards = np.zeros(capacity, dtype=np.float32)\n",
        "        self.next_states = np.zeros((capacity, *state_shape), dtype=np.uint8)\n",
        "        self.dones = np.zeros(capacity, dtype=np.bool_)\n",
        "\n",
        "        print(f\"ReplayMemory creada: {capacity} samples, {state_shape} shape\")\n",
        "        memory_size = (\n",
        "            self.states.nbytes + self.next_states.nbytes +\n",
        "            self.actions.nbytes + self.rewards.nbytes + self.dones.nbytes\n",
        "        ) / (1024 * 1024)\n",
        "        print(f\"Memoria asignada: {memory_size:.2f} MB\")\n",
        "\n",
        "    def append(self, state, action, reward, next_state, done):\n",
        "        \"\"\"Añade una experiencia al buffer de forma eficiente\"\"\"\n",
        "        # Convertir a uint8 para ahorrar memoria (estados son imágenes 0-255)\n",
        "        if state.dtype != np.uint8:\n",
        "            state = (state * 255).astype(np.uint8)\n",
        "        if next_state.dtype != np.uint8:\n",
        "            next_state = (next_state * 255).astype(np.uint8)\n",
        "\n",
        "        # Almacenar directamente en el array pre-asignado\n",
        "        self.states[self.position] = state\n",
        "        self.actions[self.position] = action\n",
        "        self.rewards[self.position] = reward\n",
        "        self.next_states[self.position] = next_state\n",
        "        self.dones[self.position] = done\n",
        "\n",
        "        # Actualizar posición circular\n",
        "        self.position = (self.position + 1) % self.capacity\n",
        "        self.size = min(self.size + 1, self.capacity)\n",
        "\n",
        "    def sample(self, batch_size):\n",
        "        \"\"\"Muestra un batch de experiencias de forma eficiente\"\"\"\n",
        "        if self.size < batch_size:\n",
        "            raise ValueError(f\"No hay suficientes samples ({self.size}) para batch_size ({batch_size})\")\n",
        "\n",
        "        # Generar índices aleatorios\n",
        "        indices = np.random.choice(self.size, batch_size, replace=False)\n",
        "\n",
        "        # Extraer batch y convertir de vuelta a float32 para el entrenamiento\n",
        "        batch_states = self.states[indices].astype(np.float32) / 255.0\n",
        "        batch_actions = self.actions[indices]\n",
        "        batch_rewards = self.rewards[indices]\n",
        "        batch_next_states = self.next_states[indices].astype(np.float32) / 255.0\n",
        "        batch_dones = self.dones[indices]\n",
        "\n",
        "        return batch_states, batch_actions, batch_rewards, batch_next_states, batch_dones\n",
        "\n",
        "    def __len__(self):\n",
        "        return self.size\n",
        "\n",
        "    def clear(self):\n",
        "        \"\"\"Limpia la memoria de forma segura\"\"\"\n",
        "        self.position = 0\n",
        "        self.size = 0\n",
        "        # No es necesario limpiar los arrays, se sobrescriben"
      ],
      "metadata": {
        "id": "ewKKozUaf-mG"
      },
      "execution_count": 16,
      "outputs": []
    },
    {
      "cell_type": "markdown",
      "source": [
        "#### Clase PerformanceMonitor"
      ],
      "metadata": {
        "id": "No-SaTPRkQoK"
      }
    },
    {
      "cell_type": "code",
      "source": [
        "# Clase para monitoreo de memoria y rendimiento\n",
        "class PerformanceMonitor(tf.keras.callbacks.Callback):\n",
        "    def __init__(self, save_path='diagnosticos'):\n",
        "        self.save_path = save_path\n",
        "        self.episode_times = []\n",
        "        self.memory_usage = []\n",
        "        self.current_episode = 0\n",
        "        self.episode_start_time = None\n",
        "        self.episode_start_memory = None\n",
        "\n",
        "    def on_episode_begin(self, episode, logs={}):\n",
        "        self.episode_start_time = time.time()\n",
        "        self.episode_start_memory = psutil.Process().memory_info().rss / (1024 * 1024)\n",
        "        self.current_episode = episode\n",
        "        print(f\"Episodio {episode} comenzando. Memoria inicial: {self.episode_start_memory:.2f} MB\")\n",
        "\n",
        "    def on_episode_end(self, episode, logs={}):\n",
        "        end_time = time.time()\n",
        "        final_memory = psutil.Process().memory_info().rss / (1024 * 1024)\n",
        "        episode_duration = end_time - self.episode_start_time\n",
        "\n",
        "        self.episode_times.append(episode_duration)\n",
        "        self.memory_usage.append(final_memory)\n",
        "\n",
        "        print(f\"Episodio {episode} completado en {episode_duration:.2f} segundos\")\n",
        "        print(f\"Memoria final: {final_memory:.2f} MB (cambio: {final_memory - self.episode_start_memory:.2f} MB)\")\n",
        "\n",
        "        # Guardar diagnóstico cada 5 episodios\n",
        "        if (episode + 1) % 5 == 0:\n",
        "            self.save_diagnostics(episode)\n",
        "\n",
        "        # Forzar recolección de basura\n",
        "        gc.collect()\n",
        "\n",
        "    def save_diagnostics(self, episode):\n",
        "        plt.figure(figsize=(12, 6))\n",
        "        plt.subplot(1, 2, 1)\n",
        "        plt.plot(self.episode_times)\n",
        "        plt.title('Tiempo por episodio')\n",
        "        plt.ylabel('Segundos')\n",
        "        plt.xlabel('Episodio')\n",
        "\n",
        "        plt.subplot(1, 2, 2)\n",
        "        plt.plot(self.memory_usage)\n",
        "        plt.title('Uso de memoria')\n",
        "        plt.ylabel('MB')\n",
        "        plt.xlabel('Episodio')\n",
        "\n",
        "        plt.tight_layout()\n",
        "        plt.savefig(f\"{self.save_path}/rendimiento_episodio_{episode+1}.png\")\n",
        "        plt.close()"
      ],
      "metadata": {
        "id": "Wf2A5kDokNdS"
      },
      "execution_count": 17,
      "outputs": []
    },
    {
      "cell_type": "markdown",
      "source": [
        "### 1. Implementación de la red neuronal\n",
        "\n",
        "#### Definición de las redes neuronales"
      ],
      "metadata": {
        "id": "iTgDOJoCgISN"
      }
    },
    {
      "cell_type": "markdown",
      "source": [
        "Crearemos una clase para construir un red Q-profunda, con tres capas convolucionales, seguidas de una capa de aplanamiento y una capa completamente conectada."
      ],
      "metadata": {
        "id": "SFAzP0UigPVg"
      }
    },
    {
      "cell_type": "markdown",
      "source": [],
      "metadata": {
        "id": "CQ0dGSAUgP0a"
      }
    },
    {
      "cell_type": "code",
      "source": [
        "# Clase base DQNetworkBase para evitar duplicación\n",
        "@tf.keras.utils.register_keras_serializable()\n",
        "class DQNetworkBase(tf.keras.Model):\n",
        "    \"\"\"Base común para redes DQN y DDQN\n",
        "    Red neuronal Deep Q-Network (DQN) para aproximar la función Q en aprendizaje por refuerzo.\n",
        "\n",
        "    Esta clase implementa una red convolucional que recibe un estado (conjunto de frames)\n",
        "    y produce los valores Q para cada acción posible. Usa capas convolucionales seguidas\n",
        "    de capas totalmente conectadas, con activación ELU.\n",
        "\n",
        "    Parámetros:\n",
        "    -----------\n",
        "    state_size : tupla/lista - Dimensiones del estado de entrada (por ejemplo, [84, 84, 4]).\n",
        "    action_size : int        - Número de acciones posibles en el entorno.\n",
        "    learning_rate : float    - Tasa de aprendizaje para el optimizador Adam.\n",
        "    name : str, opcional     - Nombre del scope de TensorFlow para distinguir múltiples redes.\n",
        "    \"\"\"\n",
        "    def __init__(self, state_size, action_size, learning_rate, name='DQNetworkBase'):\n",
        "        super(DQNetworkBase, self).__init__(name=name)\n",
        "        self.state_size = state_size\n",
        "        self.action_size = action_size\n",
        "        self.learning_rate = learning_rate\n",
        "\n",
        "        # Configuración de capas\n",
        "        if K.image_data_format() == 'channels_last':\n",
        "            self.permute = Permute((2, 3, 1))\n",
        "        elif K.image_data_format() == 'channels_first':\n",
        "            self.permute = Permute((1, 2, 3))\n",
        "        else:\n",
        "            raise RuntimeError('Unknown image_dim_ordering.')\n",
        "\n",
        "        self.conv1 = Conv2D(32, (8, 8), strides=(4, 4), activation='relu')\n",
        "        self.conv2 = Conv2D(64, (4, 4), strides=(2, 2), activation='relu')\n",
        "        self.conv3 = Conv2D(64, (3, 3), strides=(1, 1), activation='relu')\n",
        "        self.flatten = Flatten()\n",
        "        self.fc = Dense(512, activation='relu')\n",
        "        self.output_layer = Dense(action_size, activation='linear')\n",
        "\n",
        "        # Optimizador\n",
        "        self.optimizer = tf.keras.optimizers.Adam(learning_rate=self.learning_rate)\n",
        "        self.loss_fn = tf.keras.losses.MeanSquaredError()\n",
        "\n",
        "    def _forward_pass(self, inputs):\n",
        "        \"\"\"\n",
        "        Ejecuta la red neuronal para un batch de estados y define la lógica para hacer la propagación hacia adelante\n",
        "        (forward pass).  Se llama automáticamente en una clase que hereda de tf.keras.Model o tf.keras.layers.Layer.\n",
        "\n",
        "        Parámetros:\n",
        "        -----------\n",
        "        inputs : tf.Tensor  - Tensor con los estados de entrada, shape = (batch_size, *state_size)\n",
        "        \"\"\"\n",
        "        # Hay un detalle importante a tener en cuenta: K.image_data_format() indica el formato que Keras está configurado\n",
        "        #   para usar por defecto, pero no necesariamente indica el formato de los datos que estás recibiendo en ese\n",
        "        #   momento específico. Para el problema específico con keras-rl, puede ser que la biblioteca esté proporcionando\n",
        "        # datos en un formato diferente al configurado en Keras. Por eso, una combinación de ambos enfoques podría ser lo\n",
        "        # mejor:\n",
        "        # Verificar la forma real de los datos de entrada\n",
        "        \"\"\"Forward pass con manejo inteligente del formato de canales\"\"\"\n",
        "        # Verificar la forma real de los datos de entrada\n",
        "        if len(inputs.shape) == 4 and inputs.shape[1] in [3, 4] and inputs.shape[2] in [84, 110]:\n",
        "            # Los datos tienen formato channels_first (batch, channels, height, width)\n",
        "            x = self.permute(inputs)\n",
        "            print(f\"Detectado formato channels_first en datos: {inputs.shape} -> {x.shape}\")\n",
        "        elif K.image_data_format() == 'channels_first' and len(inputs.shape) == 4:\n",
        "            # Keras está configurado para channels_first pero el modelo espera channels_last\n",
        "            x = self.permute(inputs)\n",
        "            print(f\"Permutando debido a configuración channels_first: {inputs.shape} -> {x.shape}\")\n",
        "        else:\n",
        "            # Formato ya compatible o caso especial\n",
        "            x = inputs\n",
        "\n",
        "        # CORREGIDO: Usar x en lugar de inputs\n",
        "        x = self.conv1(x)\n",
        "        x = self.conv2(x)\n",
        "        x = self.conv3(x)\n",
        "        x = self.flatten(x)\n",
        "        x = self.fc(x)\n",
        "        return self.output_layer(x)\n",
        "\n",
        "    def call(self, inputs, training=False):\n",
        "        \"\"\"\n",
        "        Ejecuta la red neuronal para un batch de estados y define la lógica para hacer la propagación hacia adelante\n",
        "        (forward pass).  Se llama automáticamente en una clase que hereda de tf.keras.Model o tf.keras.layers.Layer.\n",
        "\n",
        "        Parámetros:\n",
        "        -----------\n",
        "        inputs : tf.Tensor  - Tensor con los estados de entrada, shape = (batch_size, *state_size)\n",
        "\n",
        "        Retorna:\n",
        "        --------\n",
        "        tf.Tensor - Valores Q para cada acción, shape = (batch_size, action_size)\n",
        "        \"\"\"\n",
        "        return self._forward_pass(inputs)\n",
        "\n",
        "    def get_config(self):\n",
        "        return {\n",
        "            'state_size': self.state_size,\n",
        "            'action_size': self.action_size,\n",
        "            'learning_rate': self.learning_rate,\n",
        "            'name': self.name,\n",
        "        }\n",
        "\n",
        "    @classmethod\n",
        "    def from_config(cls, config):\n",
        "        return cls(**config)"
      ],
      "metadata": {
        "id": "kP2vNpKnzkTl"
      },
      "execution_count": 18,
      "outputs": []
    },
    {
      "cell_type": "code",
      "source": [
        "# DQNetwork simplificado\n",
        "@tf.keras.utils.register_keras_serializable()\n",
        "class DQNetwork(DQNetworkBase):\n",
        "    \"\"\"Red DQN estándar\"\"\"\n",
        "    def __init__(self, state_size, action_size, learning_rate, name='DQNetwork'):\n",
        "        super(DQNetwork, self).__init__(state_size, action_size, learning_rate, name=name)"
      ],
      "metadata": {
        "id": "lSrKAOx8Ok6Q"
      },
      "execution_count": 19,
      "outputs": []
    },
    {
      "cell_type": "code",
      "source": [
        "# Definición de DDQNetwork independiente\n",
        "@tf.keras.utils.register_keras_serializable()\n",
        "class DDQNetwork(DQNetworkBase):\n",
        "    \"\"\"Red Double DQN con redes principal y objetivo\"\"\"\n",
        "    def __init__(self, state_size, action_size, learning_rate, name='DDQNetwork'):\n",
        "        super(DDQNetwork, self).__init__(state_size, action_size, learning_rate, name=name)\n",
        "\n",
        "        # Red objetivo separada\n",
        "        self.target_network = self._build_target_network()\n",
        "\n",
        "        # Inicializar con los mismos pesos\n",
        "        self.update_target(tau=1.0)\n",
        "\n",
        "    def _build_target_network(self):\n",
        "        \"\"\"Construye la red objetivo con la misma arquitectura\"\"\"\n",
        "        inputs = Input(shape=self.state_size)\n",
        "        x = Conv2D(32, (8, 8), strides=(4, 4), activation='relu', padding='valid')(inputs)\n",
        "        x = Conv2D(64, (4, 4), strides=(2, 2), activation='relu', padding='valid')(x)\n",
        "        x = Conv2D(64, (3, 3), strides=(1, 1), activation='relu', padding='valid')(x)\n",
        "        x = Flatten()(x)\n",
        "        x = Dense(512, activation='relu')(x)\n",
        "        outputs = Dense(self.action_size, activation='linear')(x)\n",
        "\n",
        "        return tf.keras.Model(inputs=inputs, outputs=outputs)\n",
        "\n",
        "    def update_target(self, tau=1.0):\n",
        "        \"\"\"Actualiza los pesos de la red objetivo\"\"\"\n",
        "        main_weights = self.get_weights()\n",
        "        target_weights = self.target_network.get_weights()\n",
        "\n",
        "        updated_weights = []\n",
        "        for i in range(len(target_weights)):\n",
        "            updated_weights.append((1 - tau) * target_weights[i] + tau * main_weights[i])\n",
        "\n",
        "        self.target_network.set_weights(updated_weights)"
      ],
      "metadata": {
        "id": "qm4vt4leyndU"
      },
      "execution_count": 20,
      "outputs": []
    },
    {
      "cell_type": "markdown",
      "source": [
        "### 2. Implementación de la solución DQN\n",
        "\n",
        "#### Funciones auxiliares"
      ],
      "metadata": {
        "id": "d0DHvKNshvQo"
      }
    },
    {
      "cell_type": "code",
      "source": [
        "# Mapear clases a prefijos\n",
        "class_to_prefix = {\n",
        "        DQNetwork: \"DQN\",\n",
        "        DDQNetwork: \"DDQN\" #,\n",
        "    #    DDQNetworkWithReplay: \"DDQN_Replay\",\n",
        "    #    DuelingDQNetworkWithReplay: \"DuelingDQN_Replay\"\n",
        "}"
      ],
      "metadata": {
        "id": "3pyO_DovhzyW"
      },
      "execution_count": 21,
      "outputs": []
    },
    {
      "cell_type": "code",
      "source": [
        "# Step 2: Create a fixed version of the compute_q_values function\n",
        "def fixed_compute_q_values(self, state):\n",
        "    \"\"\"Compute Q-values for a given state.\"\"\"\n",
        "    # Get batch Q-values\n",
        "    q_values = self.compute_batch_q_values([state])\n",
        "\n",
        "    # Convert TensorFlow tensor to NumPy if needed\n",
        "    if isinstance(q_values, tf.Tensor):\n",
        "        q_values = q_values.numpy()\n",
        "\n",
        "    # Debug output\n",
        "    print(f\"Q-values shape: {q_values.shape}, nb_actions: {self.nb_actions}\")\n",
        "\n",
        "    # Flatten the Q-values - handle different shapes\n",
        "    if len(q_values.shape) > 1:\n",
        "        if q_values.shape[1] == self.nb_actions:\n",
        "            q_values = tf.keras.backend.get_value( q_values[0])\n",
        "        else:\n",
        "            # If shape doesn't match expected, reshape to match nb_actions\n",
        "            q_values = q_values.reshape(-1)[:self.nb_actions]\n",
        "\n",
        "    # Make sure we have the right number of Q-values\n",
        "    if len(q_values) != self.nb_actions:\n",
        "        print(f\"WARNING: Q-values shape {q_values.shape} doesn't match nb_actions {self.nb_actions}\")\n",
        "        # Pad or truncate to match nb_actions\n",
        "        if len(q_values) < self.nb_actions:\n",
        "            # Pad with zeros\n",
        "            q_values = np.pad(q_values, (0, self.nb_actions - len(q_values)))\n",
        "        else:\n",
        "            # Truncate\n",
        "            q_values = q_values[:self.nb_actions]\n",
        "\n",
        "    return q_values\n",
        "\n",
        "# Step 3: Create a fixed version of compute_batch_q_values\n",
        "def fixed_compute_batch_q_values(self, state_batch):\n",
        "    \"\"\"Compute Q-values for a batch of states.\"\"\"\n",
        "    # Process state batch\n",
        "    batch = self.process_state_batch(state_batch)\n",
        "\n",
        "    # Print shape for debugging\n",
        "    print(f\"Processed batch shape: {batch.shape}\")\n",
        "\n",
        "    try:\n",
        "        # Convert to tensor with correct dtype\n",
        "        tensor_batch = tf.convert_to_tensor(batch, dtype=tf.float32)\n",
        "\n",
        "        # Get Q-values using the model's call method directly\n",
        "        q_values = self.model(tensor_batch, training=False)\n",
        "\n",
        "        # Convert to NumPy if it's a tensor\n",
        "        if isinstance(q_values, tf.Tensor):\n",
        "            q_values = tf.keras.backend.get_value( q_values)\n",
        "\n",
        "        return q_values\n",
        "    except Exception as e:\n",
        "        print(f\"Error computing batch Q-values: {e}\")\n",
        "        # Return default Q-values as fallback\n",
        "        return np.zeros((len(state_batch), self.nb_actions))\n"
      ],
      "metadata": {
        "id": "ocXuoi6rmQaQ"
      },
      "execution_count": 22,
      "outputs": []
    },
    {
      "cell_type": "code",
      "source": [
        "# Step 4: Apply our fixes to the DQN agent\n",
        "DQNAgent.compute_q_values = fixed_compute_q_values\n",
        "DQNAgent.compute_batch_q_values = fixed_compute_batch_q_values"
      ],
      "metadata": {
        "id": "z2Afsxq6mfb8"
      },
      "execution_count": 23,
      "outputs": []
    },
    {
      "cell_type": "markdown",
      "source": [
        "#### **ENTRENAMIENTO** ***********"
      ],
      "metadata": {
        "id": "zgbzJyUjmTzs"
      }
    },
    {
      "cell_type": "code",
      "source": [
        "# Iniciar tracemalloc\n",
        "tracemalloc.start()\n",
        "# Suprimir advertencias\n",
        "warnings.filterwarnings(\"ignore\", category=DeprecationWarning)\n",
        "# Configurar TensorFlow\n",
        "tf.config.run_functions_eagerly(True)\n",
        "\n",
        "#state_size = (WINDOW_LENGTH,) + INPUT_SHAPE\n",
        "input_shape = (WINDOW_LENGTH,) + INPUT_SHAPE  # e.g. (4, 84, 84)\n",
        "\n",
        "def crear_agente(env, dqnet_class, processor, state_size, action_size, window_length, gamma, prefijo,batch_size=32,\n",
        "                     learning_rate=0.00025, checkpoint_path='checkpoints',\n",
        "                     input_shape=(84, 84, 4), memoria_tamano=1000000,\n",
        "                     warmup_steps=50000, target_update_interval=10000, target_update_tau=0.001,\n",
        "                     epsilon_start=1.0, epsilon_min=0.1, epsilon_steps=1000000):\n",
        "    \"\"\"\n",
        "    Configura un agente DQN o DDQN con parámetros comunes.\n",
        "\n",
        "    Parámetros:\n",
        "    -----------\n",
        "    dqnet_class: Clase del modelo (e.g., DQNetwork, DDQNetwork, DDQNetworkWithReplay, DuelingDQNetworkWithReplay).\n",
        "            Se usa para verificar si el modelo soporta memoria de repetición y para determinar el prefijo de los\n",
        "            nombres de archivo de checkpoint.\n",
        "    env : gym.Env -        Entorno de OpenAI Gym\n",
        "    input_shape : tuple -  Forma del estado de entrada (altura, ancho, canales)\n",
        "    memoria_tamano : int - Tamaño de la memoria de experiencia\n",
        "    warmup_steps : int -   Pasos antes de empezar a aprender\n",
        "    target_update_interval : int - Frecuencia de actualización de la red objetivo\n",
        "    target_update_tau : float - Factor de actualización suave para la red objetivo\n",
        "    learning_rate : float -     Tasa de aprendizaje para el optimizador\n",
        "    epsilon_start, epsilon_min, epsilon_steps : float, float, int - Parámetros para la política epsilon-greedy con decaimiento lineal\n",
        "\n",
        "    Returns:\n",
        "    --------\n",
        "    agent : DQNAgent -       Agente configurado según los parámetros\n",
        "    model : tf.keras.Model o DDQNetwork - Modelo usado por el agente\n",
        "    processor : AtariProcessor -          Procesador de observaciones\n",
        "    callbacks : list -                    Lista de callbacks configurados\n",
        "    \"\"\"\n",
        "    # Optimización: limpiar memoria antes de crear modelo\n",
        "    tf.keras.backend.clear_session()\n",
        "    gc.collect()\n",
        "\n",
        "    # Verificar que el entorno esté disponible\n",
        "    if env is None:\n",
        "        raise ValueError(\"Debe proporcionar un entorno válido\")\n",
        "\n",
        "    # Verificar que las dimensiones de entrada sean correctas\n",
        "    # En TensorFlow con formato 'channels_last', necesitamos (height, width, channels)\n",
        "    if len(input_shape) != 3:\n",
        "        raise ValueError(f\"input_shape debe tener 3 dimensiones (height, width, channels), pero tiene {len(input_shape)}\")\n",
        "\n",
        "    # IMPORTANTE: Asegurarse de que state_size y input_shape sean consistentes\n",
        "    print(f\"Creando modelo con input_shape={input_shape} y state_size={state_size}\")\n",
        "\n",
        "    # IMPORTANTE: Asegurarse de que state_size y input_shape sean consistentes\n",
        "    print(f\"Creando modelo con input_shape={input_shape} y state_size={state_size}\")\n",
        "    # Crear modelo base\n",
        "    channels_last_shape = (*input_shape, window_length)\n",
        "    action_size = env.action_space.n\n",
        "\n",
        "    # Paso condicional de memory_size solo para DDQNetworkWithReplay\n",
        "    # if dqnet_class in [DDQNetworkWithReplay, DuelingDQNetworkWithReplay]:\n",
        "    #     model_base = dqnet_class(state_size, action_size, learning_rate, memory_size=memory_size, tau=tau)\n",
        "    # elif dqnet_class in [DDQNetwork]:  # si esta clase sí necesita tau\n",
        "    #     model_base = dqnet_class(state_size, action_size, learning_rate, tau=tau, gamma=gamma)\n",
        "    # else:\n",
        "    model_base = dqnet_class(channels_last_shape , action_size, learning_rate)\n",
        "    # Verificar el tipo de modelo y establecer enable_double_dqn correctamente\n",
        "    enable_double_dqn = (dqnet_class == DDQNetwork)\n",
        "\n",
        "    # Wrap funcional para Keras-RL\n",
        "    input_tensor  = tf.keras.Input(shape=channels_last_shape)\n",
        "    output = model_base(input_tensor )\n",
        "    model = tf.keras.Model(inputs=input_tensor , outputs=output)\n",
        "    model.summary()\n",
        "\n",
        "    memory = SequentialMemory(limit=memoria_tamano, window_length=input_shape[2])\n",
        "\n",
        "    policy = LinearAnnealedPolicy(EpsGreedyQPolicy(), attr='eps',\n",
        "                              value_max=epsilon_start, value_min=epsilon_min, value_test=.05,\n",
        "                              nb_steps=epsilon_steps)\n",
        "    # Crear agente\n",
        "    dqn = DQNAgent(\n",
        "        model=model,\n",
        "        nb_actions=env.action_space.n,\n",
        "        memory=memory,\n",
        "        processor=processor,\n",
        "        nb_steps_warmup=warmup_steps,\n",
        "        target_model_update=target_update_interval if not enable_double_dqn else 1,\n",
        "        enable_double_dqn=enable_double_dqn,\n",
        "        gamma=gamma,       # Valor estándar óptimo\n",
        "        train_interval=4,  # Actualizar cada 4 pasos (óptimo)\n",
        "        delta_clip=1.0,    # Limitar los errores para estabilidad\n",
        "        batch_size=batch_size      # Tamaño de batch óptimo\n",
        "    )\n",
        "\n",
        "    # Compilar el agente\n",
        "    dqn.compile(Adam(learning_rate=learning_rate), metrics=['mae'])\n",
        "\n",
        "    # Configurar callbacks\n",
        "    tipo_str = prefijo\n",
        "    weights_filename = f'{tipo_str}_weights.h5f'\n",
        "    checkpoint_weights_filename = f'{tipo_str}_weights_{{step}}.h5f'\n",
        "    log_filename = f'{tipo_str}_log.json'\n",
        "    callbacks = [\n",
        "        ModelIntervalCheckpoint(checkpoint_weights_filename, interval=250000),\n",
        "        FileLogger(log_filename, interval=100),\n",
        "        PerformanceMonitor(save_path='diagnosticos')\n",
        "    ]\n",
        "\n",
        "    # Para DDQN, añadimos un callback simple para actualizar la red target\n",
        "    if dqnet_class  in [DDQNetwork]:\n",
        "        class SimpleTargetUpdate(tf.keras.callbacks.Callback):\n",
        "            def __init__(self, ddqn_model, update_interval, tau):\n",
        "                self.ddqn_model = ddqn_model\n",
        "                self.update_interval = update_interval\n",
        "                self.tau = tau\n",
        "                self.step_counter = 0\n",
        "\n",
        "            def on_step_end(self, step, logs={}):\n",
        "                self.step_counter += 1\n",
        "                if self.step_counter % self.update_interval == 0:\n",
        "                    self.ddqn_model.update_target(tau=self.tau)\n",
        "                    print(f\"Paso {self.step_counter}: Actualizada red objetivo con tau={self.tau}\")\n",
        "\n",
        "        callbacks.append(SimpleTargetUpdate(model, target_update_interval, target_update_tau))\n",
        "\n",
        "    return dqn, model, callbacks"
      ],
      "metadata": {
        "id": "6Lopk_9tiB0I"
      },
      "execution_count": 24,
      "outputs": []
    },
    {
      "cell_type": "markdown",
      "source": [],
      "metadata": {
        "id": "kM65PKIxQic2"
      }
    },
    {
      "cell_type": "code",
      "source": [
        "# Función de utilidad para crear y comparar los modelos que se vayan creando\n",
        "def entrenar_modelo(model_type,\n",
        "                 state_size,\n",
        "                 action_size,\n",
        "                 total_episodios,\n",
        "                 max_steps,\n",
        "                 batch_size,\n",
        "                 gamma,\n",
        "                 epsilon_start,\n",
        "                 memory_size,\n",
        "                 tau,\n",
        "                 learning_rate=0.001,\n",
        "                 start_episode=0,\n",
        "                 checkpoints_dir=checkpoint_path,\n",
        "                 memory_path=None,\n",
        "                 num_steps=1000000  # Añadir este parámetro\n",
        "):\n",
        "    \"\"\"\n",
        "    Factory function para crear modelos DQN o DDQN.\n",
        "\n",
        "    Parámetros:\n",
        "    -----------\n",
        "        model_type : str -       Tipo de modelo a entrenar. Puede ser 'DQN' o 'DDQN'.\n",
        "        state_size : tuple -     Dimensiones del estado de entrada (por ejemplo, (84, 84, 4)).\n",
        "        action_size : int-       Número de acciones posibles en el entorno.\n",
        "        total_episodios : int-   Número total de episodios de entrenamiento.\n",
        "        max_steps : int -        Número máximo de pasos por episodio.\n",
        "        batch_size : int -       Tamaño de los lotes para el entrenamiento.\n",
        "        gamma : float -          Factor de descuento para los futuros Q-valores.\n",
        "        epsilon_start : float -  Valor inicial de epsilon (probabilidad de exploración).\n",
        "        memory_size : int -      Tamaño máximo de la memoria de repetición (replay buffer).\n",
        "        tau : float -            Tasa de actualización suave para redes objetivo (target network).\n",
        "        learning_rate : float -  Tasa de aprendizaje para el optimizador (default: 0.001).\n",
        "        start_episode : int   -  Episodio desde el cual comenzar (por ejemplo, al reanudar desde un checkpoint) (default: 0).\n",
        "        checkpoints_dir : str -  Ruta al archivo de checkpoint (pesos del modelo guardados en formato `.h5`) para continuar entrenamiento (default: None).\n",
        "        memory_path : str -      Ruta al archivo de memoria de repetición guardada (`.pkl`) para restaurar la experiencia pasada (default: None).\n",
        "\n",
        "    Retorna:\n",
        "    --------\n",
        "        trained_dqn - El agente entrenado\n",
        "    \"\"\"\n",
        "    # Crear el procesador Atari\n",
        "    processor = AtariProcessor()\n",
        "\n",
        "    print(\"-\" * 60)\n",
        "    if model_type.upper() == 'DQN':\n",
        "        print(\"Entrenando DQN simple para Space Invaders...\")\n",
        "        trained_dqn, dqn_model, dqn_callbacks = crear_agente(env, DQNetwork, processor, MODEL_INPUT_SHAPE ,\n",
        "                     action_size, WINDOW_LENGTH, gamma, prefijo=model_type.upper(), batch_size=batch_size,\n",
        "                     learning_rate=0.00025, checkpoint_path='checkpoints',\n",
        "                     input_shape=INPUT_SHAPE, memoria_tamano=1000000,\n",
        "                     warmup_steps=50000, target_update_interval=10000, target_update_tau=0.001,\n",
        "                     epsilon_start=1.0, epsilon_min=0.1, epsilon_steps=1000000)\n",
        "    elif model_type.upper() == 'DDQN':\n",
        "        print(\"Entrenando DDQN simple para Space Invaders...\")\n",
        "        trained_dqn, dqn_model, dqn_callbacks = crear_agente(env, DDQNetwork, processor, MODEL_INPUT_SHAPE ,\n",
        "                     action_size, WINDOW_LENGTH, gamma, prefijo=model_type.upper(), batch_size=batch_size,\n",
        "                     learning_rate=0.00025, checkpoint_path='checkpoints',\n",
        "                     input_shape=INPUT_SHAPE, memoria_tamano=1000000,\n",
        "                     warmup_steps=50000, target_update_interval=10000, target_update_tau=0.001,\n",
        "                     epsilon_start=1.0, epsilon_min=0.1, epsilon_steps=1000000)\n",
        "    elif model_type.upper() == 'DDQN_REPLAY':\n",
        "        print(\"Entrenando DDQN con Replay Memory para Space Invaders...\")\n",
        "        trained_dqn, dqn_model, dqn_callbacks = crear_agente(env, None, processor, MODEL_INPUT_SHAPE ,\n",
        "                     action_size, WINDOW_LENGTH, gamma, prefijo=model_type.upper(), batch_size=batch_size,\n",
        "                     learning_rate=0.00025, checkpoint_path='checkpoints',\n",
        "                     input_shape=INPUT_SHAPE, memoria_tamano=1000000,\n",
        "                     warmup_steps=50000, target_update_interval=10000, target_update_tau=0.001,\n",
        "                     epsilon_start=1.0, epsilon_min=0.1, epsilon_steps=1000000)\n",
        "    elif model_type.upper() == 'DUELING_DQN_REPLAY':\n",
        "        print(\"Entrenando Dueling DQN con Replay Memory para Space Invaders...\")\n",
        "        trained_dqn, dqn_model, dqn_callbacks = crear_agente(env, None, processor, MODEL_INPUT_SHAPE ,\n",
        "                     action_size, WINDOW_LENGTH, gamma, prefijo=model_type.upper(), batch_size=batch_size,\n",
        "                     learning_rate=0.00025, checkpoint_path='checkpoints',\n",
        "                     input_shape=INPUT_SHAPE, memoria_tamano=1000000,\n",
        "                     warmup_steps=50000, target_update_interval=10000, target_update_tau=0.001,\n",
        "                     epsilon_start=1.0, epsilon_min=0.1, epsilon_steps=1000000)\n",
        "    else:\n",
        "        raise ValueError(\"model_type debe ser 'DQN', 'DDQN', 'DDQN_REPLAY' o 'DUELING_DQN_REPLAY' \")\n",
        "    print(\"-\" * 60)\n",
        "\n",
        "\n",
        "    # Entrenar -------------------------------------\n",
        "    try:\n",
        "        print(f\"Iniciando entrenamiento de {model_type.upper()} por {num_steps} pasos...\")\n",
        "        start_time = time.time()\n",
        "\n",
        "        # Entrenar el agente DQN\n",
        "        trained_dqn.fit(env, nb_steps=num_steps, callbacks=dqn_callbacks, verbose=2)\n",
        "\n",
        "        training_time = (time.time() - start_time) / 60\n",
        "        print(f\"Entrenamiento completado en {training_time:.2f} minutos\")\n",
        "        # Guardar pesos finales\n",
        "        weights_filename = f\"{checkpoints_dir}/{model_type}_weights_final.h5f\"\n",
        "        trained_dqn.save_weights(weights_filename, overwrite=True)\n",
        "        print(f\"Modelo guardado en {weights_filename}\")\n",
        "        return trained_dqn\n",
        "    except KeyboardInterrupt:\n",
        "        print(\"\\nEntrenamiento interrumpido por el usuario\")\n",
        "        # Guardar pesos de emergencia\n",
        "        emergency_filename = f\"{checkpoints_dir}/{model_type}_weights_emergency.h5f\"\n",
        "        trained_dqn.save_weights(emergency_filename, overwrite=True)\n",
        "        print(f\"Modelo de emergencia guardado en {emergency_filename}\")\n",
        "        return trained_dqn\n",
        "    except Exception as e:\n",
        "        print(f\"\\nError durante el entrenamiento: {str(e)}\")\n",
        "        traceback.print_exc()\n",
        "        return None\n",
        "\n",
        "    return trained_dqn"
      ],
      "metadata": {
        "id": "MTCkURI3oARu"
      },
      "execution_count": 25,
      "outputs": []
    },
    {
      "cell_type": "code",
      "source": [
        "# --- Bloque de Ejecución Principal ---\n",
        "if __name__ == \"__main__\":\n",
        "    tf.keras.backend.clear_session()\n",
        "    # Control global de si se entrena o solo se carga\n",
        "    training_global = True\n",
        "    # Control de renderizado durante el entrenamiento (no afecta la grabación de video final)\n",
        "    episode_render = False\n",
        "    # Asegurar que existe el directorio\n",
        "    os.makedirs(checkpoint_path, exist_ok=True)\n",
        "    # Optimizar configuración de TensorFlow\n",
        "    optimizar_tensorflow()\n",
        "\n",
        "    # ------------ ENTRENAMIENTO Y CARGA DE MEJORES MODELOS --------------------------------------\n",
        "\n",
        "    # Diccionario para guardar los *mejores modelos cargados/entrenados* de cada tipo\n",
        "    trained_models = {}\n",
        "    # Lista de tuplas (nombre_modelo, clase_modelo, flag_entrenamiento_especifico)\n",
        "    modelos_a_procesar = [\n",
        "        ('DQN', DQNetwork, True), # NO Entrenar DQN\n",
        "        ('DDQN', DDQNetwork, False), # No entrenar DDQN, solo cargar si existe\n",
        "        ('DDQN_REPLAY', DQNetwork, False), # No entrenar DDQN_REPLAY\n",
        "        ('DUELING_DQN_REPLAY', DQNetwork, False) # Entrenar DuelingDQN_REPLAY\n",
        "    ]\n",
        "\n",
        "    for model_name, model_class, training_specific_flag in modelos_a_procesar:\n",
        "        # La bandera de entrenamiento final es la global AND la específica del modelo\n",
        "        entrenarSN = training_global and training_specific_flag\n",
        "        model_instance = None\n",
        "        if entrenarSN:\n",
        "            # Llama a la función crear_modelo existente para el entrenamiento.\n",
        "            # crear_modelo ya maneja los parámetros específicos de cada tipo de red.\n",
        "            model_instance = entrenar_modelo(\n",
        "                model_name, MODEL_INPUT_SHAPE, action_size,\n",
        "                total_episodios, max_steps, batch_size, gamma, epsilon_start, # Pasando los nuevos parámetros\n",
        "                memory_size=memory_size, tau=tau, learning_rate=learning_rate,\n",
        "                start_episode=0, checkpoints_dir=checkpoint_path\n",
        "            )\n",
        "        else:\n",
        "            # Si no estamos entrenando, creamos una instancia vacía para cargar pesos.\n",
        "            # Necesitamos instanciar la clase de modelo directamente.\n",
        "            if model_name in ['DDQN_REPLAY', 'DUELING_DQN_REPLAY']:\n",
        "                model_instance = model_class(state_size, action_size, learning_rate, memory_size=memory_size, tau=tau)\n",
        "            elif model_name == 'DDQN':\n",
        "                model_instance = model_class(state_size, action_size, learning_rate, tau=tau)\n",
        "            else: # 'DQN'\n",
        "                model_instance = model_class(state_size, action_size, learning_rate)"
      ],
      "metadata": {
        "colab": {
          "base_uri": "https://localhost:8080/",
          "height": 467
        },
        "id": "CAsEf6rOl0GF",
        "outputId": "5c47e323-6f4f-468a-9399-f8ea5e5e1b4c"
      },
      "execution_count": 26,
      "outputs": [
        {
          "output_type": "stream",
          "name": "stdout",
          "text": [
            "TensorFlow optimizado para 2 cores CPU\n",
            "------------------------------------------------------------\n",
            "Entrenando DQN simple para Space Invaders...\n"
          ]
        },
        {
          "output_type": "error",
          "ename": "ValueError",
          "evalue": "input_shape debe tener 3 dimensiones (height, width, channels), pero tiene 2",
          "traceback": [
            "\u001b[0;31m---------------------------------------------------------------------------\u001b[0m",
            "\u001b[0;31mValueError\u001b[0m                                Traceback (most recent call last)",
            "\u001b[0;32m/tmp/ipython-input-26-214820624.py\u001b[0m in \u001b[0;36m<cell line: 0>\u001b[0;34m()\u001b[0m\n\u001b[1;32m     30\u001b[0m             \u001b[0;31m# Llama a la función crear_modelo existente para el entrenamiento.\u001b[0m\u001b[0;34m\u001b[0m\u001b[0;34m\u001b[0m\u001b[0m\n\u001b[1;32m     31\u001b[0m             \u001b[0;31m# crear_modelo ya maneja los parámetros específicos de cada tipo de red.\u001b[0m\u001b[0;34m\u001b[0m\u001b[0;34m\u001b[0m\u001b[0m\n\u001b[0;32m---> 32\u001b[0;31m             model_instance = entrenar_modelo(\n\u001b[0m\u001b[1;32m     33\u001b[0m                 \u001b[0mmodel_name\u001b[0m\u001b[0;34m,\u001b[0m \u001b[0mMODEL_INPUT_SHAPE\u001b[0m\u001b[0;34m,\u001b[0m \u001b[0maction_size\u001b[0m\u001b[0;34m,\u001b[0m\u001b[0;34m\u001b[0m\u001b[0;34m\u001b[0m\u001b[0m\n\u001b[1;32m     34\u001b[0m                 \u001b[0mtotal_episodios\u001b[0m\u001b[0;34m,\u001b[0m \u001b[0mmax_steps\u001b[0m\u001b[0;34m,\u001b[0m \u001b[0mbatch_size\u001b[0m\u001b[0;34m,\u001b[0m \u001b[0mgamma\u001b[0m\u001b[0;34m,\u001b[0m \u001b[0mepsilon_start\u001b[0m\u001b[0;34m,\u001b[0m \u001b[0;31m# Pasando los nuevos parámetros\u001b[0m\u001b[0;34m\u001b[0m\u001b[0;34m\u001b[0m\u001b[0m\n",
            "\u001b[0;32m/tmp/ipython-input-25-1419422343.py\u001b[0m in \u001b[0;36mentrenar_modelo\u001b[0;34m(model_type, state_size, action_size, total_episodios, max_steps, batch_size, gamma, epsilon_start, memory_size, tau, learning_rate, start_episode, checkpoints_dir, memory_path, num_steps)\u001b[0m\n\u001b[1;32m     46\u001b[0m     \u001b[0;32mif\u001b[0m \u001b[0mmodel_type\u001b[0m\u001b[0;34m.\u001b[0m\u001b[0mupper\u001b[0m\u001b[0;34m(\u001b[0m\u001b[0;34m)\u001b[0m \u001b[0;34m==\u001b[0m \u001b[0;34m'DQN'\u001b[0m\u001b[0;34m:\u001b[0m\u001b[0;34m\u001b[0m\u001b[0;34m\u001b[0m\u001b[0m\n\u001b[1;32m     47\u001b[0m         \u001b[0mprint\u001b[0m\u001b[0;34m(\u001b[0m\u001b[0;34m\"Entrenando DQN simple para Space Invaders...\"\u001b[0m\u001b[0;34m)\u001b[0m\u001b[0;34m\u001b[0m\u001b[0;34m\u001b[0m\u001b[0m\n\u001b[0;32m---> 48\u001b[0;31m         trained_dqn, dqn_model, dqn_callbacks = crear_agente(env, DQNetwork, processor, MODEL_INPUT_SHAPE ,\n\u001b[0m\u001b[1;32m     49\u001b[0m                      \u001b[0maction_size\u001b[0m\u001b[0;34m,\u001b[0m \u001b[0mWINDOW_LENGTH\u001b[0m\u001b[0;34m,\u001b[0m \u001b[0mgamma\u001b[0m\u001b[0;34m,\u001b[0m \u001b[0mprefijo\u001b[0m\u001b[0;34m=\u001b[0m\u001b[0mmodel_type\u001b[0m\u001b[0;34m.\u001b[0m\u001b[0mupper\u001b[0m\u001b[0;34m(\u001b[0m\u001b[0;34m)\u001b[0m\u001b[0;34m,\u001b[0m \u001b[0mbatch_size\u001b[0m\u001b[0;34m=\u001b[0m\u001b[0mbatch_size\u001b[0m\u001b[0;34m,\u001b[0m\u001b[0;34m\u001b[0m\u001b[0;34m\u001b[0m\u001b[0m\n\u001b[1;32m     50\u001b[0m                      \u001b[0mlearning_rate\u001b[0m\u001b[0;34m=\u001b[0m\u001b[0;36m0.00025\u001b[0m\u001b[0;34m,\u001b[0m \u001b[0mcheckpoint_path\u001b[0m\u001b[0;34m=\u001b[0m\u001b[0;34m'checkpoints'\u001b[0m\u001b[0;34m,\u001b[0m\u001b[0;34m\u001b[0m\u001b[0;34m\u001b[0m\u001b[0m\n",
            "\u001b[0;32m/tmp/ipython-input-24-1598714889.py\u001b[0m in \u001b[0;36mcrear_agente\u001b[0;34m(env, dqnet_class, processor, state_size, action_size, window_length, gamma, prefijo, batch_size, learning_rate, checkpoint_path, input_shape, memoria_tamano, warmup_steps, target_update_interval, target_update_tau, epsilon_start, epsilon_min, epsilon_steps)\u001b[0m\n\u001b[1;32m     49\u001b[0m     \u001b[0;31m# En TensorFlow con formato 'channels_last', necesitamos (height, width, channels)\u001b[0m\u001b[0;34m\u001b[0m\u001b[0;34m\u001b[0m\u001b[0m\n\u001b[1;32m     50\u001b[0m     \u001b[0;32mif\u001b[0m \u001b[0mlen\u001b[0m\u001b[0;34m(\u001b[0m\u001b[0minput_shape\u001b[0m\u001b[0;34m)\u001b[0m \u001b[0;34m!=\u001b[0m \u001b[0;36m3\u001b[0m\u001b[0;34m:\u001b[0m\u001b[0;34m\u001b[0m\u001b[0;34m\u001b[0m\u001b[0m\n\u001b[0;32m---> 51\u001b[0;31m         \u001b[0;32mraise\u001b[0m \u001b[0mValueError\u001b[0m\u001b[0;34m(\u001b[0m\u001b[0;34mf\"input_shape debe tener 3 dimensiones (height, width, channels), pero tiene {len(input_shape)}\"\u001b[0m\u001b[0;34m)\u001b[0m\u001b[0;34m\u001b[0m\u001b[0;34m\u001b[0m\u001b[0m\n\u001b[0m\u001b[1;32m     52\u001b[0m \u001b[0;34m\u001b[0m\u001b[0m\n\u001b[1;32m     53\u001b[0m     \u001b[0;31m# IMPORTANTE: Asegurarse de que state_size y input_shape sean consistentes\u001b[0m\u001b[0;34m\u001b[0m\u001b[0;34m\u001b[0m\u001b[0m\n",
            "\u001b[0;31mValueError\u001b[0m: input_shape debe tener 3 dimensiones (height, width, channels), pero tiene 2"
          ]
        }
      ]
    },
    {
      "cell_type": "code",
      "source": [],
      "metadata": {
        "id": "1NPL3jnj9bqS"
      },
      "execution_count": null,
      "outputs": []
    },
    {
      "cell_type": "code",
      "execution_count": null,
      "metadata": {
        "id": "HY4KZPwP43MQ"
      },
      "outputs": [],
      "source": [
        "# Testing part\n",
        "#weights_filename = 'dqn_{}_weights.h5f'.format(env_name)\n",
        "weights_filename = \"dqn_BreakoutDeterministic-v4_weights_1750000.h5f\"\n",
        "dqn.load_weights(weights_filename)\n",
        "dqn.test(env, nb_episodes=10, visualize=False)"
      ]
    },
    {
      "cell_type": "code",
      "source": [
        "# Función para evaluar el modelo\n",
        "def evaluar_modelo(dqn, env, num_episodes=10, render=True, record_video=False):\n",
        "    \"\"\"\n",
        "    Evalúa un modelo DQN o DDQN.\n",
        "\n",
        "    Args:\n",
        "        dqn: Agente DQN entrenado\n",
        "        env: Entorno de gym\n",
        "        num_episodes: Número de episodios para evaluar\n",
        "        render: Si se debe mostrar la visualización\n",
        "        record_video: Si se debe grabar video\n",
        "\n",
        "    Returns:\n",
        "        Lista de recompensas por episodio\n",
        "    \"\"\"\n",
        "    rewards = []\n",
        "\n",
        "    # Configurar grabación de video si es necesario\n",
        "    if record_video and gym.wrappers:\n",
        "        env = gym.wrappers.RecordVideo(\n",
        "            env,\n",
        "            f\"videos/{dqn.__class__.__name__}\",\n",
        "            episode_trigger=lambda x: True\n",
        "        )\n",
        "\n",
        "    for episode in range(num_episodes):\n",
        "        state = env.reset()\n",
        "        state = dqn.processor.process_observation(state)\n",
        "\n",
        "        done = False\n",
        "        total_reward = 0\n",
        "        steps = 0\n",
        "\n",
        "        while not done:\n",
        "            if render:\n",
        "                env.render()\n",
        "\n",
        "            # Seleccionar acción\n",
        "            action = dqn.forward(state)\n",
        "\n",
        "            # Ejecutar acción\n",
        "            next_state, reward, done, _ = env.step(action)\n",
        "            next_state = dqn.processor.process_observation(next_state)\n",
        "\n",
        "            # Actualizar estado y recompensa\n",
        "            state = next_state\n",
        "            total_reward += reward\n",
        "            steps += 1\n",
        "\n",
        "        print(f\"Episodio {episode+1}/{num_episodes}: Recompensa = {total_reward}, Pasos = {steps}\")\n",
        "        rewards.append(total_reward)\n",
        "\n",
        "    avg_reward = np.mean(rewards)\n",
        "    print(f\"\\nRecompensa media: {avg_reward:.2f} ± {np.std(rewards):.2f}\")\n",
        "    print(f\"Mejor episodio: {max(rewards):.2f}, Peor episodio: {min(rewards):.2f}\")\n",
        "\n",
        "    return rewards"
      ],
      "metadata": {
        "id": "6GZzkrK72yj1"
      },
      "execution_count": null,
      "outputs": []
    },
    {
      "cell_type": "markdown",
      "metadata": {
        "id": "68dzFiUS2U6L"
      },
      "source": [
        "---"
      ]
    }
  ],
  "metadata": {
    "colab": {
      "provenance": []
    },
    "kernelspec": {
      "display_name": "Python 3 (ipykernel)",
      "language": "python",
      "name": "python3"
    },
    "language_info": {
      "codemirror_mode": {
        "name": "ipython",
        "version": 3
      },
      "file_extension": ".py",
      "mimetype": "text/x-python",
      "name": "python",
      "nbconvert_exporter": "python",
      "pygments_lexer": "ipython3",
      "version": "3.8.16"
    }
  },
  "nbformat": 4,
  "nbformat_minor": 0
}